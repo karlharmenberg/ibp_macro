{
 "cells": [
  {
   "cell_type": "markdown",
   "id": "10dce184",
   "metadata": {},
   "source": [
    "# How to execute code in this notebook\n",
    "\n",
    "Click on the code snippet you want to run, then hit shift-enter. For example, click on the code below and see what happens:"
   ]
  },
  {
   "cell_type": "code",
   "execution_count": null,
   "id": "48744bb5",
   "metadata": {},
   "outputs": [],
   "source": [
    "for count in range(10):\n",
    "    print(count)\n",
    "    \n",
    "x = 2.0"
   ]
  },
  {
   "cell_type": "markdown",
   "id": "50c2e0cc",
   "metadata": {},
   "source": [
    "The computer remembers what happened in a previous code snippet. For example, it remembers that $x$ now has the value $2.0$. Click on the code below and hit shift-enter."
   ]
  },
  {
   "cell_type": "code",
   "execution_count": null,
   "id": "85c98b7f",
   "metadata": {},
   "outputs": [],
   "source": [
    "print(\"The value of x is \", x)"
   ]
  },
  {
   "cell_type": "markdown",
   "id": "7b53ec07",
   "metadata": {},
   "source": [
    "However, the computer does not know the value of $y$ because we haven't told it its value yet. Let's try running this code (by hitting shift-enter)."
   ]
  },
  {
   "cell_type": "code",
   "execution_count": null,
   "id": "712cd911",
   "metadata": {},
   "outputs": [],
   "source": [
    "print(\"The value of y is \", y)"
   ]
  },
  {
   "cell_type": "markdown",
   "id": "4391d381",
   "metadata": {},
   "source": [
    "Maybe this very short tutorial is enough for you to explore the notebook by yourself. If not, maybe google a bit or ask me! To explore the Kaldor facts below, hit shift-enter on all the code blocks (in order)."
   ]
  },
  {
   "cell_type": "markdown",
   "id": "6640d287",
   "metadata": {},
   "source": [
    "# The Kaldor facts\n",
    "\n",
    "In 1957, Kaldor summarized a set of facts for developed economies. Although none of them are exactly true, they are nonetheless pretty true, and a good theory of economic development should be able to account for them.\n",
    "\n",
    "1. The rate of growth of GDP per capita is constant.\n",
    "2. The ratio of the total capital stock to GDP is constant.\n",
    "3. The shares of labor and capital income in GDP are constant.\n",
    "4. The average rate of return on capital is constant.\n",
    "\n",
    "# The Kaldor facts in the data\n",
    "\n",
    "This Python notebook loads the Penn world table (using this [nice package](https://github.com/spring-haru/pwtdata)) and analyzes the Kaldor facts.\n",
    "\n",
    "Why do we do this? The course does not require any programming skills, so this topic is strictly speaking beyond the scope of the course. But I think it is important to see the actual data a little bit, even in a theory heavy course such as this one. With pretty minimal skills, you should be able to adapt the code to show graphs for other countries as well.\n",
    "\n",
    "I should also admit that I think a little bit of Python programming should show up in most courses, so feel free to dismiss this a light form of [anti-Excel propaganda](https://www.bbc.com/news/magazine-22223190)."
   ]
  },
  {
   "cell_type": "code",
   "execution_count": null,
   "id": "be4a2c09",
   "metadata": {},
   "outputs": [],
   "source": [
    "import matplotlib.pyplot as plt #Load a plotting package\n",
    "import numpy as np #Load a math package\n",
    "\n",
    "import pwtdata #Package for downloading the data\n",
    "pwt = pwtdata.load()\n",
    "print(pwt)"
   ]
  },
  {
   "cell_type": "markdown",
   "id": "f9761962",
   "metadata": {},
   "source": [
    "Let's extract the data for Sweden.\n",
    "\n",
    "__Suggested homework:__ Take this code (I will put it up online) and change it so that it shows the results for, e.g., Denmark."
   ]
  },
  {
   "cell_type": "code",
   "execution_count": null,
   "id": "5a77c0b0",
   "metadata": {},
   "outputs": [],
   "source": [
    "swe = pwt[pwt['countrycode'] == 'SWE'] #Pick out the Swedish data\n",
    "swe"
   ]
  },
  {
   "cell_type": "markdown",
   "id": "3c44a561",
   "metadata": {},
   "source": [
    "Ok, so it looks like we managed to extract a bunch of observations for Sweden. Good, let's continue. What variables do we have in our data?"
   ]
  },
  {
   "cell_type": "code",
   "execution_count": null,
   "id": "0617eb84",
   "metadata": {},
   "outputs": [],
   "source": [
    "swe.columns"
   ]
  },
  {
   "cell_type": "markdown",
   "id": "6ae639d2",
   "metadata": {},
   "source": [
    "I also printed all the column names. Some of them, such as 'country' and 'year' are not too difficult to guess what they mean. For the rest, go look at the [documentation](https://www.rug.nl/ggdc/productivity/pwt/) (at this link, you can also download the data set as an Excel or Stata file as well)."
   ]
  },
  {
   "cell_type": "code",
   "execution_count": null,
   "id": "59b4d3bb",
   "metadata": {},
   "outputs": [],
   "source": [
    "#All this code, which may look complicated, plots real gdp per capita and its log.\n",
    "\n",
    "fig, axs = plt.subplots(1, 2, constrained_layout=True, figsize=(10,4))\n",
    "fig.suptitle(\"Kaldor fact 1 for Sweden\")\n",
    "axs[0].plot(swe['year'], swe['rgdpna']/swe['pop'])\n",
    "axs[1].plot(swe['year'], np.log(swe['rgdpna']/swe['pop']))\n",
    "axs[0].set_ylabel('Real GDP per capita, US dollars')\n",
    "axs[1].set_ylabel('Log real GDP per capita, US dollars')\n",
    "\n",
    "plt.show()"
   ]
  },
  {
   "cell_type": "code",
   "execution_count": null,
   "id": "15382a87",
   "metadata": {},
   "outputs": [],
   "source": [
    "plt.title(\"Kaldor fact 2 for Sweden\")\n",
    "plt.plot(swe['year'], swe['rnna']/swe['rgdpna'])\n",
    "plt.ylabel('Capital stock as multiple of GDP')\n",
    "plt.ylim([0, 10])\n",
    "plt.show()"
   ]
  },
  {
   "cell_type": "code",
   "execution_count": null,
   "id": "957be3d4",
   "metadata": {},
   "outputs": [],
   "source": [
    "plt.title(\"Kaldor fact 3 for Sweden\")\n",
    "plt.plot(swe['year'], swe['labsh'])\n",
    "plt.ylabel('Labor share of GDP')\n",
    "plt.ylim([0, 1])\n",
    "plt.show()"
   ]
  },
  {
   "cell_type": "markdown",
   "id": "54fa25de",
   "metadata": {},
   "source": [
    "It used to be a super-robust fact that the labor share was constant. Lately, it has however been trending down in many countries. See [Karabarbounis and Neiman 2014](https://academic.oup.com/qje/article-abstract/129/1/61/1899422). Why is the labor share falling? We will touch on some theories later in the course."
   ]
  },
  {
   "cell_type": "code",
   "execution_count": null,
   "id": "6b9dd8f2",
   "metadata": {},
   "outputs": [],
   "source": [
    "plt.title(\"Kaldor fact 4 for Sweden\")\n",
    "plt.plot(swe['year'], swe['irr'])\n",
    "plt.ylabel('Return on capital')\n",
    "plt.ylim([0, 0.15])\n",
    "plt.show()"
   ]
  },
  {
   "cell_type": "markdown",
   "id": "df6cfb93",
   "metadata": {},
   "source": [
    "Kaldor facts: Hold up well for Sweden"
   ]
  },
  {
   "cell_type": "code",
   "execution_count": null,
   "id": "5e0cbe9a",
   "metadata": {},
   "outputs": [],
   "source": []
  }
 ],
 "metadata": {
  "kernelspec": {
   "display_name": "Python 3",
   "language": "python",
   "name": "python3"
  },
  "language_info": {
   "codemirror_mode": {
    "name": "ipython",
    "version": 3
   },
   "file_extension": ".py",
   "mimetype": "text/x-python",
   "name": "python",
   "nbconvert_exporter": "python",
   "pygments_lexer": "ipython3",
   "version": "3.8.8"
  }
 },
 "nbformat": 4,
 "nbformat_minor": 5
}
